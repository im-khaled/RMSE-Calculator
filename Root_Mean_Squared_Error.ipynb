{
 "cells": [
  {
   "cell_type": "markdown",
   "id": "6cc0e5b7",
   "metadata": {},
   "source": [
    "# Md Khaled Mahmud Shujon"
   ]
  },
  {
   "cell_type": "markdown",
   "id": "059dada5",
   "metadata": {},
   "source": [
    "###### Goal: The main goal of this assignment is Examining how the use of Numpy [1] effects the performance of numerical calculations, creating a user-defined function using regular Python [2] lists and another user-defined function using Numpy, Furthermore, loading and preparing datasets using Pandas [3], and evaluating performance by computing the RMSE (Root Mean Square Error) of simulated water density. \n"
   ]
  },
  {
   "cell_type": "markdown",
   "id": "b5b702e4",
   "metadata": {},
   "source": [
    "NumPy is the fundamental package for scientific computing in Python. It is a Python library that provides a multidimensional array object, various derived objects (such as masked arrays and matrices), and an assortment of routines for fast operations on arrays, including mathematical, logical, shape manipulation, sorting, selecting, I/O, discrete Fourier transforms, basic linear algebra, basic statistical operations, random simulation and much more [4]."
   ]
  },
  {
   "cell_type": "code",
   "execution_count": 9,
   "id": "11299acd",
   "metadata": {},
   "outputs": [],
   "source": [
    "import numpy as np"
   ]
  },
  {
   "cell_type": "markdown",
   "id": "9795e32c",
   "metadata": {},
   "source": [
    "Pandas is a fast, powerful, flexible and easy to use open source data analysis and manipulation tool, built on top of the Python programming language [5]."
   ]
  },
  {
   "cell_type": "code",
   "execution_count": 10,
   "id": "13a6475d",
   "metadata": {},
   "outputs": [],
   "source": [
    "import pandas as pd"
   ]
  },
  {
   "cell_type": "markdown",
   "id": "d0a59087",
   "metadata": {},
   "source": [
    "### Timeit library\n",
    "- timeit, https://docs.python.org/3/library/timeit.html"
   ]
  },
  {
   "cell_type": "code",
   "execution_count": 11,
   "id": "e4a21067",
   "metadata": {},
   "outputs": [],
   "source": [
    "import timeit"
   ]
  },
  {
   "cell_type": "markdown",
   "id": "7e2fd36e",
   "metadata": {},
   "source": [
    "### Root-Mean-Squared-Error (RMSE)\n",
    "\n",
    "$\\sqrt{{\\displaystyle \\frac{1}{n}{\\sum_{i=1}^n (X_i(Calculated) - Y(Experiment))^2}}}$\n",
    "\n",
    "* $n$ = number of comparisons made\n",
    "\n",
    "* $X_i(Calculated)$ = the density values obtained from the simulations\n",
    "* $Y(Experiment)$ = the experimental density data value."
   ]
  },
  {
   "cell_type": "markdown",
   "id": "39019fc8",
   "metadata": {},
   "source": [
    " - Experimental density for water is\n",
    "0.995659 $g/cm^3$ at 30.0 °C [6]"
   ]
  },
  {
   "cell_type": "markdown",
   "id": "15e270a5",
   "metadata": {},
   "source": [
    "### Task 1:\n",
    "        Create the following two user-defined function that encodes the RMSE equation.\n",
    "        a) A user-defined function that is written using regular     \n",
    "           Python lists(i.e. do not use Numpy/Pands)\n",
    "        b) A user defined function that is written to maximizes  \n",
    "           the equation's performance by using Numpy and its fuctions."
   ]
  },
  {
   "cell_type": "code",
   "execution_count": 12,
   "id": "b8488b7f",
   "metadata": {},
   "outputs": [],
   "source": [
    "# User-defined function that is written using regular Python lists\n",
    "\n",
    "def calculate_rmse_list(simulated_list, experimental_values: float=0.995659) -> float:\n",
    "    \"\"\"\n",
    "    calculates the root-mean-squared error (RMSE) between a list of simulated values and an experimental value.\n",
    "    input: list - Python regular list\n",
    "           float - experimental values\n",
    "           \n",
    "    return: Result -RMSE\n",
    "    \"\"\"\n",
    "    \n",
    "    n = len(simulated_list)\n",
    "    sum = 0.0\n",
    "    \n",
    "    for x in simulated_list:\n",
    "        diff = x - experimental_values\n",
    "        squared_diff = diff ** 2\n",
    "        sum += squared_diff\n",
    "    \n",
    "    mean_sum = sum / n\n",
    "    rmse = mean_sum ** (1/2)\n",
    "    \n",
    "    return rmse\n"
   ]
  },
  {
   "cell_type": "markdown",
   "id": "974b6cde",
   "metadata": {},
   "source": [
    "### Numpy built-in functions\n",
    "- numpy.array, https://numpy.org/doc/stable/reference/generated/numpy.array.html\n",
    "- numpy.mean, https://numpy.org/doc/stable/reference/generated/numpy.mean.html\n",
    "- numpy.sqrt, https://numpy.org/doc/stable/reference/generated/numpy.sqrt.html"
   ]
  },
  {
   "cell_type": "code",
   "execution_count": 13,
   "id": "0ff1727b",
   "metadata": {},
   "outputs": [],
   "source": [
    "# User-defined function that is written using Numpy and its fuctions    \n",
    "\n",
    "def calculate_rmse_numpy(simulated_arry, experimental_values: float=0.995659) -> float:\n",
    "    \"\"\"\n",
    "    calculates the root-mean-squared error (RMSE) between a list of simulated values and an experimental value.\n",
    "    input: arry - numpy array\n",
    "           float - experimental values\n",
    "           \n",
    "    return: Result - RMSE\n",
    "    \"\"\"\n",
    "    \n",
    "    squared_diff = (np.array(simulated_arry) - experimental_values) ** 2\n",
    "    mean_squared_diff = np.mean(squared_diff)\n",
    "    rmse = np.sqrt(mean_squared_diff)\n",
    "    \n",
    "    return rmse\n"
   ]
  },
  {
   "cell_type": "markdown",
   "id": "77f143d0",
   "metadata": {},
   "source": [
    "### Task 2:\n",
    "        Read in the data contained in the CSV-formatted file, and compute the RMSE of the simulated water density  \n",
    "        with respect to the experimental value using each of the functions.\n",
    "\n"
   ]
  },
  {
   "cell_type": "code",
   "execution_count": 14,
   "id": "8f5b85f8",
   "metadata": {},
   "outputs": [
    {
     "name": "stdout",
     "output_type": "stream",
     "text": [
      "RMSE (List): 0.021091780857179263\n",
      "RMSE (NumPy):  0.02109178085717924\n"
     ]
    }
   ],
   "source": [
    "# Reading CSV file from source\n",
    "density_df = pd.read_csv('density.csv',header=0, sep=',')\n",
    "\n",
    "# Removing rows with missing data\n",
    "density_df = density_df.dropna()\n",
    "\n",
    "# Creating a list of simulated values\n",
    "simulated_list = density_df['Density'].tolist()\n",
    "\n",
    "# Creating a arry of simulated values\n",
    "simulated_arry = density_df['Density'].to_numpy()\n",
    "    \n",
    "\n",
    "# Computing RMSE using the Regular Python list function\n",
    "rmse_list = calculate_rmse_list(simulated_list)\n",
    "    \n",
    "# Computing RMSE using the NumPy function\n",
    "rmse_numpy = calculate_rmse_numpy(simulated_arry)\n",
    "    \n",
    "\n",
    "print(\"RMSE (List):\", rmse_list)\n",
    "print(\"RMSE (NumPy): \", rmse_numpy)\n"
   ]
  },
  {
   "cell_type": "markdown",
   "id": "a9da348c",
   "metadata": {},
   "source": [
    "### Task 3: \n",
    "        Evaluate the speed performance between two functions (Task 1) by computing the RMSE of the simulated water  \n",
    "        density. Use the timeit libarary(i.e.timeit.timeit) for this, and assign its \"number\" parameter to 20,000."
   ]
  },
  {
   "cell_type": "markdown",
   "id": "3df8c53b",
   "metadata": {},
   "source": [
    "### Lambda functions\n",
    "- lambda-expressions, https://docs.python.org/3/tutorial/controlflow.html#lambda-expressions"
   ]
  },
  {
   "cell_type": "code",
   "execution_count": 15,
   "id": "cd28e7c0",
   "metadata": {},
   "outputs": [
    {
     "name": "stdout",
     "output_type": "stream",
     "text": [
      "Time taken by the Regular function: 1.122839292002027\n",
      "Time taken by the NumPy efunction: 0.07585358300275402\n"
     ]
    }
   ],
   "source": [
    "# Measuring the time taken by the Regular Python list function\n",
    "time_regular = timeit.timeit(lambda:calculate_rmse_list(simulated_list), number=20000)\n",
    "\n",
    "# Measuring the time taken by the NumPy function\n",
    "time_numpy = timeit.timeit(lambda:calculate_rmse_numpy(simulated_arry), number=20000)\n",
    "\n",
    "print(f\"Time taken by the Regular function: {time_regular}\")\n",
    "print(f\"Time taken by the NumPy efunction: {time_numpy}\")\n"
   ]
  },
  {
   "cell_type": "markdown",
   "id": "49f3444c",
   "metadata": {},
   "source": [
    "### Additonal solution using time library\n",
    "- time, https://docs.python.org/3/library/time.html\n",
    "- underscore, Role of Underscore(_) in Python, https://www.datacamp.com/tutorial/role-underscore-python)"
   ]
  },
  {
   "cell_type": "code",
   "execution_count": 16,
   "id": "2c9b27a1",
   "metadata": {},
   "outputs": [
    {
     "name": "stdout",
     "output_type": "stream",
     "text": [
      "Regular Python list timing: 1.13 seconds\n",
      "Numpy timing: 0.07 seconds\n"
     ]
    }
   ],
   "source": [
    "import time\n",
    "\n",
    "# Regular Python List\n",
    "start_time = time.process_time()\n",
    "\n",
    "for _ in range(20000):\n",
    "    calculate_rmse_list(simulated_list)\n",
    "\n",
    "stop_time = time.process_time()\n",
    "\n",
    "print(f\"Regular Python list timing: {stop_time - start_time:0.2f} seconds\")\n",
    "\n",
    "\n",
    "# Numpy Array\n",
    "start_time = time.process_time()\n",
    "\n",
    "for _ in range(20000):\n",
    "    calculate_rmse_numpy(simulated_arry)\n",
    "\n",
    "stop_time = time.process_time()\n",
    "\n",
    "print(f\"Numpy timing: {stop_time - start_time:0.2f} seconds\")"
   ]
  },
  {
   "cell_type": "markdown",
   "id": "eb985e06",
   "metadata": {},
   "source": [
    "## References"
   ]
  },
  {
   "cell_type": "markdown",
   "id": "5f7fcb1c",
   "metadata": {},
   "source": [
    "[1] Harris, C.R., Millman, K.J., van der Walt, S.J. et al. Array programming with NumPy. Nature, 585 (2020) 357-362 (DOI: 10.1038 /s41586-020-2649-2)\n",
    "\n",
    "[2] Python Software Foundation. Python Language Reference, version 3.11. Available at http://www.python.org, Accessed on 18 June 2023.\n",
    "\n",
    "[3] Pandas user guide, https://pandas.pydata.org/docs/user_guide/index.html#user-guide, Accessed on 18 June 2023.\n",
    "\n",
    "[4] NumPy user guide., https://numpy.org/doc/stable/user/whatisnumpy.html, Accessed on 19 June 2023.\n",
    "\n",
    "[5] The pandas development team, pandas-dev/pandas: Pandas, Zenodo, 2020 (https://pandas.pydata.org/)\n",
    "\n",
    "[6] M. Vedamuthu, 8. Singh, and G.W. Robinson. Properties of liquid water: origin of the density anomalies. The Journal of Physical Chemistry, 98 (1994): 2222-2230."
   ]
  }
 ],
 "metadata": {
  "kernelspec": {
   "display_name": "Python 3 (ipykernel)",
   "language": "python",
   "name": "python3"
  },
  "language_info": {
   "codemirror_mode": {
    "name": "ipython",
    "version": 3
   },
   "file_extension": ".py",
   "mimetype": "text/x-python",
   "name": "python",
   "nbconvert_exporter": "python",
   "pygments_lexer": "ipython3",
   "version": "3.11.3"
  }
 },
 "nbformat": 4,
 "nbformat_minor": 5
}
